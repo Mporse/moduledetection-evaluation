{
 "cells": [
  {
   "cell_type": "code",
   "execution_count": 1,
   "metadata": {
    "collapsed": false
   },
   "outputs": [],
   "source": [
    "import sys\n",
    "import os\n",
    "sys.path.insert(0,os.path.abspath(\"../lib/\"))\n",
    "\n",
    "import json\n",
    "\n",
    "from util import JSONExtendedEncoder\n",
    "\n",
    "from modulecontainers import Modules\n",
    "\n",
    "%load_ext autoreload\n",
    "%autoreload 2\n",
    "\n",
    "%matplotlib inline\n",
    "from matplotlib.pyplot import *\n",
    "\n",
    "import pandas as pd\n",
    "import numpy as np\n",
    "\n",
    "import multiprocessing as mp\n",
    "\n",
    "from collections import OrderedDict\n",
    "\n",
    "from itertools import product\n",
    "from collections import defaultdict\n",
    "\n",
    "import itertools\n",
    "import shutil\n",
    "\n",
    "conf_folder = \"conf/\"\n",
    "\n",
    "from cluster import generate_batchcode\n",
    "import prism_cluster\n",
    "import os\n",
    "\n",
    "import pyperclip as pc"
   ]
  },
  {
   "cell_type": "code",
   "execution_count": 2,
   "metadata": {
    "collapsed": true
   },
   "outputs": [],
   "source": [
    "from modulescomparison import ModevalFunctional, ModevalKnownmodules, ModevalCoverage"
   ]
  },
  {
   "cell_type": "code",
   "execution_count": 6,
   "metadata": {
    "collapsed": true
   },
   "outputs": [],
   "source": [
    "methodname = \"agglom\"\n",
    "settings_name = \"paramexplo/\" + methodname\n",
    "settings = json.load(open(\"../conf/settings/{}.json\".format(settings_name)))"
   ]
  },
  {
   "cell_type": "code",
   "execution_count": 4,
   "metadata": {
    "collapsed": false
   },
   "outputs": [],
   "source": [
    "# create pool of processors\n",
    "if \"pool\" in locals().keys():\n",
    "    pool.close()\n",
    "pool = mp.Pool(mp.cpu_count()-1)"
   ]
  },
  {
   "cell_type": "code",
   "execution_count": 7,
   "metadata": {
    "collapsed": false
   },
   "outputs": [],
   "source": [
    "modeval_functional = ModevalFunctional(settings)"
   ]
  },
  {
   "cell_type": "code",
   "execution_count": 8,
   "metadata": {
    "collapsed": false
   },
   "outputs": [
    {
     "name": "stdout",
     "output_type": "stream",
     "text": [
      "Evaluating a total of 756 settings.\n",
      ">>0.03416252136230469\n",
      ">>0.07155871391296387\n",
      ">>0.05527830123901367\n",
      ">>0.07154011726379395\n",
      ">>0.07773756980895996\n",
      ">>0.1174156665802002\n",
      ">>0.2171647548675537\n",
      ">>0.026733875274658203>>0.05980110168457031>>0.14481353759765625>>0.08236908912658691>>0.1073760986328125>>0.12765979766845703>>0.21063446998596191\n",
      "\n",
      "\n",
      "\n",
      "\n",
      "\n",
      "\n",
      ">>0.08549022674560547>>0.06447291374206543>>0.16400837898254395>>0.20337486267089844>>0.21326780319213867>>0.06445741653442383>>0.13553929328918457\n",
      "\n",
      "\n",
      "\n",
      "\n",
      "\n",
      "\n",
      ">>0.07177138328552246>>0.09694194793701172>>0.06753730773925781>>0.1839292049407959>>0.31058454513549805>>0.058118343353271484>>0.10994911193847656\n",
      "\n",
      "\n",
      "\n",
      "\n",
      "\n",
      "\n",
      ">>0.0387568473815918>>0.25238800048828125>>0.08973574638366699>>0.06960701942443848>>0.12548470497131348>>0.050786495208740234>>0.0874640941619873\n",
      "\n",
      "\n",
      "\n",
      "\n",
      "\n",
      "\n",
      ">>0.03059101104736328>>0.46399497985839844>>0.0849301815032959>>0.08415627479553223>>0.08191251754760742>>0.08069539070129395>>0.08229708671569824\n",
      "\n",
      "\n",
      "\n",
      "\n",
      "\n",
      "\n",
      ">>0.03463888168334961>>0.05623340606689453>>0.16997241973876953>>0.11140871047973633>>0.14870595932006836>>0.030017614364624023>>0.14469242095947266\n",
      "\n",
      "\n",
      "\n",
      "\n",
      "\n",
      "\n",
      ">>0.07201552391052246>>0.15015482902526855>>0.0787506103515625>>0.13331866264343262>>0.11836504936218262>>0.10142850875854492>>0.10599446296691895\n",
      "\n",
      "\n",
      "\n",
      "\n",
      "\n",
      "\n",
      ">>0.03799748420715332>>0.29470157623291016>>0.1664140224456787>>0.11760640144348145>>0.1121375560760498>>0.09476423263549805>>0.12710881233215332\n",
      "\n",
      "\n",
      "\n",
      "\n",
      "\n",
      "\n",
      ">>0.03228449821472168>>0.1803278923034668>>0.21262407302856445>>0.09553122520446777>>0.18384194374084473>>0.09599065780639648>>0.1423506736755371\n",
      "\n",
      "\n",
      "\n",
      "\n",
      "\n",
      "\n",
      ">>0.07116222381591797>>0.09867024421691895>>0.10141253471374512>>0.09088468551635742>>0.18326544761657715>>0.031424522399902344>>0.21157503128051758\n",
      "\n",
      "\n",
      "\n",
      "\n",
      "\n",
      "\n",
      ">>0.0706949234008789>>0.24036550521850586>>0.20016837120056152>>0.059598445892333984>>0.08753514289855957>>0.11196231842041016>>0.15796589851379395\n",
      "\n",
      "\n",
      "\n",
      "\n",
      "\n",
      "\n",
      ">>0.12228250503540039>>0.14592456817626953>>0.10452747344970703>>0.0763545036315918>>0.03667640686035156>>0.09206557273864746>>0.1135244369506836\n",
      "\n",
      "\n",
      "\n",
      "\n",
      "\n",
      "\n",
      ">>0.18325090408325195>>0.09373807907104492>>0.12086033821105957>>0.060666561126708984>>0.0542604923248291>>0.05266880989074707>>0.0994870662689209\n",
      "\n",
      "\n",
      "\n",
      "\n",
      "\n",
      "\n",
      ">>0.06772851943969727>>0.08561992645263672>>0.06605029106140137>>0.10794425010681152>>0.26003527641296387>>0.1158909797668457>>0.13925766944885254\n",
      "\n",
      "\n",
      "\n",
      "\n",
      "\n",
      "\n",
      ">>0.04424238204956055>>0.08583569526672363>>0.13603448867797852>>0.06149625778198242>>0.21529388427734375>>0.030393123626708984>>0.1523876190185547\n",
      "\n",
      "\n",
      "\n",
      "\n",
      "\n",
      "\n",
      ">>0.1090397834777832>>0.143324613571167>>0.14380884170532227>>0.1772928237915039>>0.04691314697265625>>0.05992937088012695>>0.07441210746765137\n",
      "\n",
      "\n",
      "\n",
      "\n",
      "\n",
      "\n",
      ">>0.06790685653686523>>0.05672001838684082>>0.1785275936126709>>0.18430352210998535>>0.040511369705200195>>0.19708919525146484>>0.08881473541259766\n",
      "\n",
      "\n",
      "\n",
      "\n",
      "\n",
      "\n",
      ">>0.0929868221282959>>0.1689598560333252>>0.13092684745788574>>0.06429052352905273>>0.07994985580444336>>0.17485547065734863>>0.17733168601989746\n",
      "\n",
      "\n",
      "\n",
      "\n",
      "\n",
      "\n",
      ">>0.06829547882080078>>0.2227153778076172>>0.08959507942199707>>0.13860535621643066>>0.09567832946777344>>0.09273672103881836>>0.12484359741210938\n",
      "\n",
      "\n",
      "\n",
      "\n",
      "\n",
      "\n",
      ">>0.04213595390319824>>0.0569460391998291>>0.08885884284973145>>0.16291284561157227>>0.1299741268157959>>0.1315019130706787>>0.1200404167175293\n",
      "\n",
      "\n",
      "\n",
      "\n",
      "\n",
      "\n",
      ">>0.0428924560546875>>0.0567774772644043>>0.08429288864135742>>0.09735846519470215>>0.05870628356933594>>0.07707476615905762>>0.26854610443115234\n",
      "\n",
      "\n",
      "\n",
      "\n",
      "\n",
      "\n",
      ">>0.09520459175109863>>0.27420568466186523>>0.16541767120361328>>0.1372392177581787>>0.24425911903381348>>0.17462730407714844>>0.0775752067565918\n",
      "\n",
      "\n",
      "\n",
      "\n",
      "\n",
      "\n",
      ">>0.057852745056152344>>0.2100672721862793>>0.18666744232177734>>0.07657027244567871>>0.2376387119293213>>0.11464095115661621>>0.06312108039855957\n",
      "\n",
      "\n",
      "\n",
      "\n",
      "\n",
      "\n",
      ">>0.11096620559692383>>0.15981340408325195>>0.10981273651123047>>0.09661531448364258>>0.35497617721557617>>0.05148053169250488>>0.17794275283813477\n",
      "\n",
      "\n",
      "\n",
      "\n",
      "\n",
      "\n",
      ">>0.22574830055236816>>0.17770791053771973>>0.18576860427856445>>0.14888811111450195>>0.23976516723632812>>0.039745330810546875>>0.2266373634338379\n",
      "\n",
      "\n",
      "\n",
      "\n",
      "\n",
      "\n",
      ">>0.07261085510253906>>0.15900421142578125>>0.1112215518951416>>0.08181929588317871>>0.15612077713012695>>0.057984352111816406>>0.08557891845703125\n",
      "\n",
      "\n",
      "\n",
      "\n",
      "\n",
      "\n",
      ">>0.08054471015930176>>0.18912911415100098>>0.0940237045288086>>0.07335901260375977>>0.05335521697998047>>0.04692578315734863>>0.06231808662414551\n",
      "\n",
      "\n",
      "\n",
      "\n",
      "\n",
      "\n",
      ">>0.14781761169433594>>0.1401212215423584>>0.10885190963745117>>0.0862424373626709>>0.2684328556060791>>0.09781622886657715>>0.29898953437805176\n",
      "\n",
      "\n",
      "\n",
      "\n",
      "\n",
      "\n",
      ">>0.07414102554321289>>0.05557560920715332>>0.0560154914855957>>0.08368420600891113>>0.23281192779541016>>0.11419105529785156>>0.17717242240905762\n",
      "\n",
      "\n",
      "\n",
      "\n",
      "\n",
      "\n",
      ">>0.0870356559753418>>0.057589054107666016>>0.13441205024719238>>0.2144756317138672>>0.06484556198120117>>0.20394301414489746>>0.15646910667419434\n",
      "\n",
      "\n",
      "\n",
      "\n",
      "\n",
      "\n",
      ">>0.06412053108215332>>0.053183794021606445>>0.17695045471191406>>0.14492130279541016>>0.05474066734313965>>0.11582779884338379>>0.12289881706237793\n",
      "\n",
      "\n",
      "\n",
      "\n",
      "\n",
      "\n",
      ">>0.15021419525146484>>0.3794670104980469>>0.21567082405090332>>0.13433408737182617>>0.08292889595031738>>0.09409356117248535>>0.13222694396972656\n",
      "\n",
      "\n",
      "\n",
      "\n",
      "\n",
      "\n",
      ">>0.15747451782226562>>0.3995382785797119>>0.07936596870422363>>0.14997363090515137>>0.04291224479675293>>0.1606919765472412>>0.1391603946685791\n",
      "\n",
      "\n",
      "\n",
      "\n",
      "\n",
      "\n",
      ">>0.09955286979675293>>0.06921219825744629>>0.1699049472808838>>0.27880001068115234>>0.05947422981262207>>0.06548857688903809>>0.07214736938476562\n",
      "\n",
      "\n",
      "\n",
      "\n",
      "\n",
      "\n",
      ">>0.11788010597229004>>0.05579495429992676>>0.15843629837036133>>0.1897571086883545>>0.0653834342956543>>0.1596841812133789>>0.07091784477233887\n",
      "\n",
      "\n",
      "\n",
      "\n",
      "\n",
      "\n",
      ">>0.05909466743469238>>0.13285446166992188>>0.2662844657897949>>0.15855765342712402>>0.1813509464263916>>0.11397671699523926>>0.11985349655151367\n",
      "\n",
      "\n",
      "\n",
      "\n",
      "\n",
      "\n",
      ">>0.09293174743652344"
     ]
    }
   ],
   "source": [
    "modeval_functional.run(pool)"
   ]
  },
  {
   "cell_type": "code",
   "execution_count": 15,
   "metadata": {
    "collapsed": false
   },
   "outputs": [],
   "source": [
    "modeval_functional.save(settings_name)"
   ]
  },
  {
   "cell_type": "code",
   "execution_count": 20,
   "metadata": {
    "collapsed": false
   },
   "outputs": [],
   "source": [
    "scores = {}\n",
    "for methodname in [\"dummy\", \"agglom\"]:\n",
    "    settings_name = \"paramexplo/\" + methodname\n",
    "    settings = json.load(open(\"../conf/settings/{}.json\".format(settings_name)))\n",
    "    settings_dataset = pd.DataFrame([dict(settingid=settingid, **json.load(open(\"../\" + setting[\"dataset_location\"]))[\"params\"]) for settingid, setting in enumerate(settings)])\n",
    "    settings_method = pd.DataFrame([dict(settingid=settingid, **json.load(open(\"../\" + setting[\"method_location\"]))[\"params\"]) for settingid, setting in enumerate(settings)])\n",
    "    \n",
    "    modeval_functional.load(settings_name)\n",
    "\n",
    "    modeval_knownmodules = ModevalKnownmodules(settings)\n",
    "    modeval_knownmodules.load(settings_name)\n",
    "    modeval_coverage = ModevalCoverage(settings)\n",
    "    modeval_coverage.load(settings_name)\n",
    "\n",
    "    modeval_coverage.scores[\"refscore\"] = modeval_coverage.scores[\"aucodds_permuted\"]\n",
    "    modeval_knownmodules.scores[\"refscore\"] = modeval_knownmodules.scores[\"F1rprr_permuted\"]\n",
    "    modeval_knownmodules.scores[\"moduledef\"] = [modulesname if modulesname in [\"minimal\", \"strict\"] else \"interconnected\" for modulesname in modeval_knownmodules.scores[\"knownmodules_name\"]]\n",
    "\n",
    "    refscores = pd.concat([modeval_knownmodules.scores, modeval_coverage.scores], ignore_index=True)[[\"settingid\", \"refscore\", \"goldstandard\", \"moduledef\"]]\n",
    "    refscores = refscores.merge(settings_dataset, on=\"settingid\")\n",
    "    \n",
    "    proxyscores = modeval_functional.scores.rename(columns={\"score\":\"proxyscore\", \"scorename\":\"proxyname\"})\n",
    "    \n",
    "    combined = refscores.merge(proxyscores, on=\"settingid\")\n",
    "    \n",
    "    scores[methodname] = combined"
   ]
  },
  {
   "cell_type": "code",
   "execution_count": 23,
   "metadata": {
    "collapsed": true
   },
   "outputs": [],
   "source": [
    "optimalproxy_funcs = {\"asw\":np.nanargmax, \"ch\":np.nanargmax, \"dbindex\":np.nanargmin, \"dbstarindex\":np.nanargmin, \"bhi#go\":np.nanargmax, \"bhi#kegg\":np.nanargmax, \"bhi#reactome\":np.nanargmax, \n",
    "                      \"faucodds#go\":np.nanargmax, \"faucodds#kegg\":np.nanargmax, \"faucodds#reactome\":np.nanargmax}"
   ]
  },
  {
   "cell_type": "code",
   "execution_count": 18,
   "metadata": {
    "collapsed": false
   },
   "outputs": [
    {
     "ename": "NameError",
     "evalue": "name 'subscores' is not defined",
     "output_type": "error",
     "traceback": [
      "\u001b[0;31m---------------------------------------------------------------------------\u001b[0m",
      "\u001b[0;31mNameError\u001b[0m                                 Traceback (most recent call last)",
      "\u001b[0;32m<ipython-input-18-bac8ba6f9a04>\u001b[0m in \u001b[0;36m<module>\u001b[0;34m()\u001b[0m\n\u001b[0;32m----> 1\u001b[0;31m \u001b[0msubscores\u001b[0m\u001b[0;34m[\u001b[0m\u001b[0;34m\"proxyscore\"\u001b[0m\u001b[0;34m]\u001b[0m\u001b[0;34m.\u001b[0m\u001b[0midxmax\u001b[0m\u001b[0;34m(\u001b[0m\u001b[0;34m)\u001b[0m\u001b[0;34m\u001b[0m\u001b[0m\n\u001b[0m",
      "\u001b[0;31mNameError\u001b[0m: name 'subscores' is not defined"
     ]
    }
   ],
   "source": [
    "subscores[\"proxyscore\"].idxmax()"
   ]
  },
  {
   "cell_type": "code",
   "execution_count": 25,
   "metadata": {
    "collapsed": false
   },
   "outputs": [
    {
     "name": "stderr",
     "output_type": "stream",
     "text": [
      "/usr/local/lib/python3.4/dist-packages/ipykernel/__main__.py:4: SettingWithCopyWarning: \n",
      "A value is trying to be set on a copy of a slice from a DataFrame\n",
      "\n",
      "See the caveats in the documentation: http://pandas.pydata.org/pandas-docs/stable/indexing.html#indexing-view-versus-copy\n"
     ]
    }
   ],
   "source": [
    "finalscores = []\n",
    "\n",
    "for method, methodscores in scores.items():\n",
    "    methodscores[\"proxyscore\"][np.isinf(methodscores[\"proxyscore\"])] = np.nan\n",
    "    for (dataset, goldstandard, proxyname), subscores in methodscores.groupby((\"datasetname\", \"goldstandard\", \"proxyname\")):\n",
    "        if proxyname not in optimalproxy_funcs.keys():\n",
    "            continue\n",
    "        if proxyname.endswith(\"reactome\"):\n",
    "            continue\n",
    "\n",
    "        optimalproxy_func = optimalproxy_funcs[proxyname]\n",
    "        if np.all(np.isnan(subscores[\"proxyscore\"])):\n",
    "            print(\"random?\", method)\n",
    "            print(dataset, refgrouper,proxygrouper)\n",
    "            optimalproxy = np.random.choice(subscores.index)\n",
    "        else:\n",
    "            optimalproxy = subscores.index[optimalproxy_func(subscores[\"proxyscore\"])]\n",
    "            \n",
    "        row = subscores.ix[optimalproxy].copy()\n",
    "        row[\"optimalrefscore\"] = subscores[\"refscore\"].max()\n",
    "        row[\"method\"] = method\n",
    "        finalscores.append(row)\n",
    "finalscores = pd.DataFrame(finalscores).rename(columns={\"organism\":\"organismoi\", \"goldstandard\":\"goldstandardoi\", \"refscore\":\"score\"})"
   ]
  },
  {
   "cell_type": "code",
   "execution_count": 26,
   "metadata": {
    "collapsed": true
   },
   "outputs": [],
   "source": [
    "from collections import Counter"
   ]
  },
  {
   "cell_type": "code",
   "execution_count": 29,
   "metadata": {
    "collapsed": false
   },
   "outputs": [
    {
     "data": {
      "text/plain": [
       "proxyname      method\n",
       "bhi#go         agglom    2.673693\n",
       "               dummy     0.352089\n",
       "bhi#kegg       agglom    2.097965\n",
       "               dummy     0.352089\n",
       "faucodds#go    dummy     0.452503\n",
       "faucodds#kegg  dummy     0.549578\n",
       "dtype: float64"
      ]
     },
     "execution_count": 29,
     "metadata": {},
     "output_type": "execute_result"
    }
   ],
   "source": [
    "proxyscores_ = add_weights(finalscores)\n",
    "proxyscores_.groupby((\"proxyname\", \"method\")).apply(lambda x: np.average(x.score, weights=x.weight))"
   ]
  },
  {
   "cell_type": "code",
   "execution_count": 386,
   "metadata": {
    "collapsed": false
   },
   "outputs": [
    {
     "data": {
      "text/plain": [
       "method\n",
       "agglom    7.225501\n",
       "dummy     0.589433\n",
       "dtype: float64"
      ]
     },
     "execution_count": 386,
     "metadata": {},
     "output_type": "execute_result"
    }
   ],
   "source": [
    "proxyscores_.groupby(\"method\").apply(lambda x: np.average(x.optimalrefscore, weights=x.weight))"
   ]
  },
  {
   "cell_type": "code",
   "execution_count": 28,
   "metadata": {
    "collapsed": true
   },
   "outputs": [],
   "source": [
    "def add_weights(scores):\n",
    "    weights = []\n",
    "    scores[\"moduledef\"] = scores[\"moduledef\"].fillna(\"\")\n",
    "    for organismoi, subscores in scores.groupby(\"organismoi\"):\n",
    "        moduledef_weights = 1/subscores.groupby(\"moduledef\")[\"score\"].count()\n",
    "        for moduledef, weight in moduledef_weights.items():\n",
    "            weights.append({\n",
    "                    \"organism\":organismoi,\n",
    "                    \"moduledef\":moduledef,\n",
    "                    \"weight\":weight / len(moduledef_weights)\n",
    "                })\n",
    "    weights = pd.DataFrame(weights).set_index([\"organism\", \"moduledef\"])[\"weight\"]\n",
    "    \n",
    "    scores[\"weight\"] = weights.ix[pd.Index(scores[[\"organismoi\", \"moduledef\"]])].tolist()\n",
    "    \n",
    "    return scores"
   ]
  },
  {
   "cell_type": "code",
   "execution_count": 383,
   "metadata": {
    "collapsed": false
   },
   "outputs": [
    {
     "ename": "KeyError",
     "evalue": "'refscore'",
     "output_type": "error",
     "traceback": [
      "\u001b[0;31m---------------------------------------------------------------------------\u001b[0m",
      "\u001b[0;31mKeyError\u001b[0m                                  Traceback (most recent call last)",
      "\u001b[0;32m<ipython-input-383-f89f5cf59537>\u001b[0m in \u001b[0;36m<module>\u001b[0;34m()\u001b[0m\n\u001b[0;32m----> 1\u001b[0;31m \u001b[0mscatter\u001b[0m\u001b[0;34m(\u001b[0m\u001b[0mscores\u001b[0m\u001b[0;34m[\u001b[0m\u001b[0;34m\"refscore\"\u001b[0m\u001b[0;34m]\u001b[0m\u001b[0;34m,\u001b[0m \u001b[0mscores\u001b[0m\u001b[0;34m[\u001b[0m\u001b[0;34m\"proxyscore\"\u001b[0m\u001b[0;34m]\u001b[0m\u001b[0;34m)\u001b[0m\u001b[0;34m\u001b[0m\u001b[0m\n\u001b[0m",
      "\u001b[0;31mKeyError\u001b[0m: 'refscore'"
     ]
    }
   ],
   "source": [
    "scatter(scores[\"refscore\"], scores[\"proxyscore\"])"
   ]
  }
 ],
 "metadata": {
  "kernelspec": {
   "display_name": "Python 3",
   "language": "python",
   "name": "python3"
  },
  "language_info": {
   "codemirror_mode": {
    "name": "ipython",
    "version": 3
   },
   "file_extension": ".py",
   "mimetype": "text/x-python",
   "name": "python",
   "nbconvert_exporter": "python",
   "pygments_lexer": "ipython3",
   "version": "3.4.3"
  }
 },
 "nbformat": 4,
 "nbformat_minor": 0
}
